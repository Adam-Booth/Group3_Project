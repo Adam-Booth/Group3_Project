{
 "cells": [
  {
   "cell_type": "markdown",
   "metadata": {},
   "source": [
    "<h1> NDVI calculation for Hadrian's Wall "
   ]
  },
  {
   "cell_type": "markdown",
   "metadata": {},
   "source": [
    "<h3> Set up notebook "
   ]
  },
  {
   "cell_type": "code",
   "execution_count": 6,
   "metadata": {},
   "outputs": [],
   "source": [
    "import ee\n",
    "import geemap\n",
    "import os\n",
    "import numpy as np\n",
    "import matplotlib.pyplot as plt\n",
    "from geemap import colormaps"
   ]
  },
  {
   "cell_type": "code",
   "execution_count": 7,
   "metadata": {},
   "outputs": [],
   "source": [
    "ee.Initialize() "
   ]
  },
  {
   "cell_type": "code",
   "execution_count": 8,
   "metadata": {},
   "outputs": [],
   "source": [
    "#collect EE object of buffered wall - exclusive to my google account\n",
    "# readme file explains creation/uploading shapefile to any other google acc\n",
    "wall_ee = ee.FeatureCollection('users/Samuelvalman/buffer_350')\n"
   ]
  },
  {
   "cell_type": "code",
   "execution_count": 9,
   "metadata": {},
   "outputs": [],
   "source": [
    "#Normalised Difference Vegetation Index (5 dictates landsat 5 band names)\n",
    "#NIR then Red bands\n",
    "def getNDVI5(image):\n",
    "    return image.normalizedDifference(['B4', 'B3'])"
   ]
  },
  {
   "cell_type": "code",
   "execution_count": 10,
   "metadata": {},
   "outputs": [],
   "source": [
    "#function to get Landsat datasets and filter to period in question, reduce to single image and clip to wall\n",
    "\n",
    "\n",
    "def NDVI_summer(yr_start, yr_end):\n",
    "    \n",
    "    file = ee.ImageCollection(\"LANDSAT/LT05/C01/T1_SR\") \\\n",
    "    .filter(ee.Filter.lt('CLOUD_COVER', 10)) \\\n",
    "    .filter(ee.Filter.calendarRange(yr_start,yr_end,'year')).filter(ee.Filter.calendarRange(6,8,'month')) \\\n",
    "    .filterBounds(wall_ee)\n",
    "    \n",
    "    print(file.size().getInfo())\n",
    "    \n",
    "    file = file.median()\n",
    "    file = file.clip(wall_ee)\n",
    "    \n",
    "    file = getNDVI5(file)\n",
    "    return file"
   ]
  },
  {
   "cell_type": "code",
   "execution_count": 11,
   "metadata": {},
   "outputs": [
    {
     "name": "stdout",
     "output_type": "stream",
     "text": [
      "7\n",
      "4\n",
      "1\n",
      "2\n",
      "3\n"
     ]
    }
   ],
   "source": [
    "#five year ndvi periods \n",
    "p1 = NDVI_summer(1985, 1990)\n",
    "p2 = NDVI_summer(1991, 1995)\n",
    "p3 = NDVI_summer(1996, 2000)\n",
    "p4 = NDVI_summer(2001, 2005)\n",
    "p5 = NDVI_summer(2006, 2010)"
   ]
  },
  {
   "cell_type": "code",
   "execution_count": 13,
   "metadata": {},
   "outputs": [],
   "source": [
    "ndviParams = {'palette': colormaps.palettes.ndvi}\n",
    "\n",
    "Map = geemap.Map()"
   ]
  },
  {
   "cell_type": "code",
   "execution_count": 16,
   "metadata": {},
   "outputs": [],
   "source": [
    "#add the layers\n",
    "Map.addLayer(p1, ndviParams, '85-90', shown=True)\n",
    "Map.addLayer(p2, ndviParams, '91-95', shown=False)\n",
    "Map.addLayer(p3, ndviParams, '96-00', shown=False)\n",
    "Map.addLayer(p4, ndviParams, '01-05', shown=False)\n",
    "Map.addLayer(p5, ndviParams, '06-10', shown=False)\n",
    "\n",
    "\n",
    "#add the EE_buffer for context \n",
    "Map.addLayer(wall_ee, {}, 'buffered', shown=False)\n",
    "\n",
    "#center on our wall\n",
    "Map.centerObject(wall_ee, zoom= 10)"
   ]
  },
  {
   "cell_type": "code",
   "execution_count": 15,
   "metadata": {},
   "outputs": [
    {
     "data": {
      "application/vnd.jupyter.widget-view+json": {
       "model_id": "db313508e7284342be11d00070a40a15",
       "version_major": 2,
       "version_minor": 0
      },
      "text/plain": [
       "Map(center=[54.98234923668915, -2.387573870922565], controls=(WidgetControl(options=['position'], widget=HBox(…"
      ]
     },
     "metadata": {},
     "output_type": "display_data"
    }
   ],
   "source": [
    "Map"
   ]
  },
  {
   "cell_type": "markdown",
   "metadata": {},
   "source": [
    "<h1> to download as tif files "
   ]
  },
  {
   "cell_type": "code",
   "execution_count": null,
   "metadata": {},
   "outputs": [],
   "source": [
    "out_dir = os.path.join(os.path.expanduser('~'), 'Downloads')\n",
    "fn_p1 = os.path.join(out_dir, 'p1.tif')\n",
    "fn_p2 = os.path.join(out_dir, 'p2.tif')\n",
    "fn_p3 = os.path.join(out_dir, 'p3.tif')\n",
    "fn_p4 = os.path.join(out_dir, 'p4.tif')\n",
    "fn_p5 = os.path.join(out_dir, 'p5.tif')\n",
    "region = wall_ee.geometry().bounds().getInfo()"
   ]
  },
  {
   "cell_type": "code",
   "execution_count": null,
   "metadata": {},
   "outputs": [],
   "source": [
    "geemap.ee_export_image(p1, filename=fn_p1, scale=30, region=region, file_per_band=False)\n",
    "geemap.ee_export_image(p2, filename=fn_p2, scale=30, region=region, file_per_band=False)\n",
    "geemap.ee_export_image(p3, filename=fn_p3, scale=30, region=region, file_per_band=False)\n",
    "geemap.ee_export_image(p4, filename=fn_p4, scale=30, region=region, file_per_band=False)\n",
    "geemap.ee_export_image(p5, filename=fn_p5, scale=30, region=region, file_per_band=False)\n"
   ]
  }
 ],
 "metadata": {
  "kernelspec": {
   "display_name": "Python 3",
   "language": "python",
   "name": "python3"
  },
  "language_info": {
   "codemirror_mode": {
    "name": "ipython",
    "version": 3
   },
   "file_extension": ".py",
   "mimetype": "text/x-python",
   "name": "python",
   "nbconvert_exporter": "python",
   "pygments_lexer": "ipython3",
   "version": "3.8.5"
  }
 },
 "nbformat": 4,
 "nbformat_minor": 4
}
