{
 "cells": [
  {
   "cell_type": "markdown",
   "metadata": {},
   "source": [
    "# Next task is to upload all the csvs group by year.mean() and create a time series graph"
   ]
  },
  {
   "cell_type": "code",
   "execution_count": 51,
   "metadata": {},
   "outputs": [],
   "source": [
    "import ee \n",
    "import geemap\n",
    "from geemap.datasets import DATA\n",
    "from geemap import colormaps\n",
    "import os\n",
    "\n",
    "\n",
    "import pandas as pd\n",
    "import matplotlib.pyplot as plt"
   ]
  },
  {
   "cell_type": "code",
   "execution_count": 2,
   "metadata": {},
   "outputs": [],
   "source": [
    "ee.Initialize()"
   ]
  },
  {
   "cell_type": "code",
   "execution_count": 28,
   "metadata": {},
   "outputs": [],
   "source": [
    "geometry = ee.FeatureCollection('users/Samuelvalman/site').geometry()\n",
    "# uk = ee.FeatureCollection(\"USDOS/LSIB_SIMPLE/2017\").filter(ee.Filter.eq(\"country_co\", \"UK\"))\n"
   ]
  },
  {
   "cell_type": "code",
   "execution_count": 29,
   "metadata": {},
   "outputs": [],
   "source": [
    "#8create dictionary of the different landsat codes to respond to calling Landsat_LST.functionname(satellite)\n",
    "#removed band 11 from landsat 8\n",
    "COLLECTION = ee.Dictionary({\n",
    "  'L4': {\n",
    "    'TOA': ee.ImageCollection('LANDSAT/LT04/C01/T1_TOA'),\n",
    "    'SR': ee.ImageCollection('LANDSAT/LT04/C01/T1_SR'),\n",
    "  },\n",
    "  'L5': {\n",
    "    'TOA': ee.ImageCollection('LANDSAT/LT05/C01/T1_TOA'),\n",
    "    'SR': ee.ImageCollection('LANDSAT/LT05/C01/T1_SR'),\n",
    "  },\n",
    "  'L7': {\n",
    "    'TOA': ee.ImageCollection('LANDSAT/LE07/C01/T1_TOA'),\n",
    "    'SR': ee.ImageCollection('LANDSAT/LE07/C01/T1_SR'),\n",
    "  },\n",
    "  'L8': {\n",
    "    'TOA': ee.ImageCollection('LANDSAT/LC08/C01/T1_TOA'),\n",
    "    'SR': ee.ImageCollection('LANDSAT/LC08/C01/T1_SR'),\n",
    "  }\n",
    "})"
   ]
  },
  {
   "cell_type": "code",
   "execution_count": 30,
   "metadata": {},
   "outputs": [],
   "source": [
    "#choose LS number\n",
    "satellite = 'L8'\n",
    "#for now start and end dates\n",
    "date_start = '2013-04-11'\n",
    "date_end = '2021-05-18'\n",
    "collection_dict = ee.Dictionary(COLLECTION.get(satellite))"
   ]
  },
  {
   "cell_type": "code",
   "execution_count": 31,
   "metadata": {},
   "outputs": [],
   "source": [
    "def sr(image):\n",
    "    qa = image.select('pixel_qa')\n",
    "    mask = qa.bitwiseAnd(1 << 3).Or(qa.bitwiseAnd(1 << 5))\n",
    "    return image.updateMask(mask.Not())"
   ]
  },
  {
   "cell_type": "code",
   "execution_count": 32,
   "metadata": {},
   "outputs": [],
   "source": [
    "def ndvi(image, landsat):\n",
    "    # choose bands\n",
    "    nir = ee.String(ee.Algorithms.If(landsat=='L8','B5','B4'))\n",
    "    red = ee.String(ee.Algorithms.If(landsat=='L8','B4','B3'))\n",
    "\n",
    "    # compute NDVI\n",
    "    image = image.addBands(image.expression('(nir-red)/(nir+red)',{\n",
    "      'nir':image.select(nir).multiply(0.0001),\n",
    "      'red':image.select(red).multiply(0.0001)\n",
    "    }).rename('NDVI'))\n",
    "\n",
    "    return image"
   ]
  },
  {
   "cell_type": "code",
   "execution_count": 33,
   "metadata": {},
   "outputs": [],
   "source": [
    "def Make_df(ls, date_time, ndvi_list):\n",
    "    \n",
    "    dt = []\n",
    "    for i in date_time:\n",
    "        dt.append(i[:4])\n",
    "    df = pd.DataFrame({'d':dt, 'ndvi':ndvi_list, 'ls':ls})\n",
    "    df = df.dropna().reset_index()\n",
    "    df['d']= pd.to_datetime(df['d'])\n",
    "    fn = str(ls)+'.csv'\n",
    "    df.to_csv(fn)"
   ]
  },
  {
   "cell_type": "code",
   "execution_count": 34,
   "metadata": {},
   "outputs": [],
   "source": [
    "def NDVI_mean(image):\n",
    "    ndvi = image.select('NDVI')\n",
    "    mean = ndvi.reduceRegion(**{\n",
    "    'reducer': ee.Reducer.mean(),\n",
    "    'geometry': geometry,\n",
    "    'scale': 30\n",
    "    })\n",
    "    return mean"
   ]
  },
  {
   "cell_type": "code",
   "execution_count": 35,
   "metadata": {},
   "outputs": [
    {
     "name": "stdout",
     "output_type": "stream",
     "text": [
      "191\n"
     ]
    }
   ],
   "source": [
    "#   # load Surface Reflectance \n",
    "landsatSR = ee.ImageCollection(collection_dict.get('SR'))\\\n",
    "    .filter(ee.Filter.date(date_start, date_end))\\\n",
    "    .filterBounds(geometry)\\\n",
    "    .map(sr)\\\n",
    "    .map(lambda x: ndvi(x, satellite))\\\n",
    "    .map(lambda x: x.clip(geometry))\n",
    "print(landsatSR.size().getInfo())"
   ]
  },
  {
   "cell_type": "code",
   "execution_count": 36,
   "metadata": {},
   "outputs": [],
   "source": [
    "ls_list = landsatSR.toList(191)\n"
   ]
  },
  {
   "cell_type": "code",
   "execution_count": 37,
   "metadata": {},
   "outputs": [
    {
     "name": "stdout",
     "output_type": "stream",
     "text": [
      "187\n"
     ]
    }
   ],
   "source": [
    "len(ndvi_list)\n",
    "for i in range(187, 191):\n",
    "    print(i)\n",
    "    break"
   ]
  },
  {
   "cell_type": "code",
   "execution_count": 38,
   "metadata": {
    "scrolled": true
   },
   "outputs": [
    {
     "name": "stdout",
     "output_type": "stream",
     "text": [
      "0\n",
      "1\n",
      "2\n",
      "3\n",
      "4\n",
      "5\n",
      "6\n",
      "7\n",
      "8\n",
      "9\n",
      "10\n",
      "11\n",
      "12\n",
      "13\n",
      "14\n",
      "15\n",
      "16\n",
      "17\n",
      "18\n",
      "19\n",
      "20\n",
      "21\n",
      "22\n",
      "23\n",
      "24\n",
      "25\n",
      "26\n",
      "27\n",
      "28\n",
      "29\n",
      "30\n",
      "31\n",
      "32\n",
      "33\n",
      "34\n",
      "35\n",
      "36\n",
      "37\n",
      "38\n",
      "39\n",
      "40\n",
      "41\n",
      "42\n",
      "43\n",
      "44\n",
      "45\n",
      "46\n",
      "47\n",
      "48\n",
      "49\n",
      "50\n",
      "51\n",
      "52\n",
      "53\n",
      "54\n",
      "55\n",
      "56\n",
      "57\n",
      "58\n",
      "59\n",
      "60\n",
      "61\n",
      "62\n",
      "63\n",
      "64\n",
      "65\n",
      "66\n",
      "67\n",
      "68\n",
      "69\n",
      "70\n",
      "71\n",
      "72\n",
      "73\n",
      "74\n",
      "75\n",
      "76\n",
      "77\n",
      "78\n",
      "79\n",
      "80\n",
      "81\n",
      "82\n",
      "83\n",
      "84\n",
      "85\n",
      "86\n",
      "87\n",
      "88\n",
      "89\n",
      "90\n",
      "91\n",
      "92\n",
      "93\n",
      "94\n",
      "95\n",
      "96\n",
      "97\n",
      "98\n",
      "99\n",
      "100\n",
      "101\n",
      "102\n",
      "103\n",
      "104\n",
      "105\n",
      "106\n",
      "107\n",
      "108\n",
      "109\n",
      "110\n",
      "111\n",
      "112\n",
      "113\n",
      "114\n",
      "115\n",
      "116\n",
      "117\n",
      "118\n",
      "119\n",
      "120\n",
      "121\n",
      "122\n",
      "123\n",
      "124\n",
      "125\n",
      "126\n",
      "127\n",
      "128\n",
      "129\n",
      "130\n",
      "131\n",
      "132\n",
      "133\n",
      "134\n",
      "135\n",
      "136\n",
      "137\n",
      "138\n",
      "139\n",
      "140\n",
      "141\n",
      "142\n",
      "143\n",
      "144\n",
      "145\n",
      "146\n",
      "147\n",
      "148\n",
      "149\n",
      "150\n",
      "151\n",
      "152\n",
      "153\n",
      "154\n",
      "155\n",
      "156\n",
      "157\n",
      "158\n",
      "159\n",
      "160\n",
      "161\n",
      "162\n",
      "163\n",
      "164\n",
      "165\n",
      "166\n",
      "167\n",
      "168\n",
      "169\n",
      "170\n",
      "171\n",
      "172\n",
      "173\n",
      "174\n",
      "175\n",
      "176\n",
      "177\n",
      "178\n",
      "179\n",
      "180\n",
      "181\n",
      "182\n",
      "183\n",
      "184\n",
      "185\n",
      "186\n",
      "187\n",
      "188\n",
      "189\n",
      "190\n"
     ]
    }
   ],
   "source": [
    "date_time = []\n",
    "ndvi_list = []\n",
    "x=0\n",
    "for l in range(0, 191):\n",
    "    im = ee.Image(ls_list.get(l))\n",
    "    date = ee.Date(im.get('system:time_start')).format('yyyy-mm-dd').getInfo()\n",
    "    date_time.append(date)\n",
    "    print(x)\n",
    "    x+=1\n",
    "    meanNDVI = NDVI_mean(im).getInfo()\n",
    "#     meanNDVI = meanNDVI.getInfo()\n",
    "    meanNDVI = meanNDVI['NDVI']\n",
    "    ndvi_list.append(meanNDVI)\n",
    "    \n",
    "Make_df(8, date_time, ndvi_list)\n",
    "    \n"
   ]
  },
  {
   "cell_type": "code",
   "execution_count": null,
   "metadata": {},
   "outputs": [],
   "source": [
    "#choose LS number\n",
    "satellite = 'L7'\n",
    "#for now start and end dates\n",
    "date_start = '1999-01-01'\n",
    "date_end = '2021-04-28'\n",
    "collection_dict = ee.Dictionary(COLLECTION.get(satellite))\n",
    "\n",
    "#   # load Surface Reflectance \n",
    "landsatSR = ee.ImageCollection(collection_dict.get('SR'))\\\n",
    "    .filter(ee.Filter.date(date_start, date_end))\\\n",
    "    .filterBounds(geometry)\\\n",
    "    .map(sr)\\\n",
    "    .map(lambda x: ndvi(x, satellite))\\\n",
    "    .map(lambda x: x.clip(geometry))\n",
    "print(landsatSR.size().getInfo())\n",
    "\n"
   ]
  },
  {
   "cell_type": "code",
   "execution_count": null,
   "metadata": {},
   "outputs": [],
   "source": [
    "ls_list = landsatSR.toList(320)\n",
    "date_time = []\n",
    "ndvi_list = []\n",
    "x=0\n",
    "\n",
    "\n",
    "for l in range(0, 320):\n",
    "    im = ee.Image(ls_list.get(l))\n",
    "    date = ee.Date(im.get('system:time_start')).format('yyyy-mm-dd').getInfo()\n",
    "    date_time.append(date)\n",
    "    print(x)\n",
    "    x+=1\n",
    "    meanNDVI = NDVI_mean(im).getInfo()\n",
    "#     meanNDVI = meanNDVI.getInfo()\n",
    "    meanNDVI = meanNDVI['NDVI']\n",
    "    ndvi_list.append(meanNDVI)\n",
    "Make_df(7, date_time, ndvi_list)\n"
   ]
  },
  {
   "cell_type": "code",
   "execution_count": null,
   "metadata": {},
   "outputs": [],
   "source": [
    "#choose LS number\n",
    "satellite = 'L5'\n",
    "#for now start and end dates\n",
    "date_start = '1984-01-01'\n",
    "date_end = '2012-05-05'\n",
    "collection_dict = ee.Dictionary(COLLECTION.get(satellite))\n",
    "\n",
    "\n",
    "#   # load Surface Reflectance \n",
    "landsatSR = ee.ImageCollection(collection_dict.get('SR'))\\\n",
    "    .filter(ee.Filter.date(date_start, date_end))\\\n",
    "    .filterBounds(geometry)\\\n",
    "    .map(sr)\\\n",
    "    .map(lambda x: ndvi(x, satellite))\\\n",
    "    .map(lambda x: x.clip(geometry))\n",
    "print(landsatSR.size().getInfo())\n",
    "\n"
   ]
  },
  {
   "cell_type": "code",
   "execution_count": null,
   "metadata": {},
   "outputs": [],
   "source": [
    "# not run yet because I'm a fucking invalid \n",
    "ls_list = landsatSR.toList(347)\n",
    "date_time = []\n",
    "ndvi_list = []\n",
    "x=0\n",
    "\n",
    "\n",
    "for l in range(0, 347):\n",
    "    im = ee.Image(ls_list.get(l))\n",
    "    date = ee.Date(im.get('system:time_start')).format('yyyy-mm-dd').getInfo()\n",
    "    date_time.append(date)\n",
    "    print(x)\n",
    "    x+=1\n",
    "    meanNDVI = NDVI_mean(im).getInfo()\n",
    "#     meanNDVI = meanNDVI.getInfo()\n",
    "    meanNDVI = meanNDVI['NDVI']\n",
    "    ndvi_list.append(meanNDVI)\n",
    "Make_df(5, date_time, ndvi_list)\n"
   ]
  },
  {
   "cell_type": "code",
   "execution_count": 18,
   "metadata": {},
   "outputs": [
    {
     "name": "stdout",
     "output_type": "stream",
     "text": [
      "6\n"
     ]
    }
   ],
   "source": [
    "#choose LS number\n",
    "satellite = 'L4'\n",
    "#for now start and end dates\n",
    "date_start = '1982-08-22'\n",
    "date_end = '1993-12-14'\n",
    "collection_dict = ee.Dictionary(COLLECTION.get(satellite))\n",
    "\n",
    "#   # load Surface Reflectance \n",
    "landsatSR = ee.ImageCollection(collection_dict.get('SR'))\\\n",
    "    .filter(ee.Filter.date(date_start, date_end))\\\n",
    "    .filterBounds(geometry)\\\n",
    "    .map(sr)\\\n",
    "    .map(lambda x: ndvi(x, satellite))\\\n",
    "    .map(lambda x: x.clip(geometry))\n",
    "print(landsatSR.size().getInfo())\n",
    "\n"
   ]
  },
  {
   "cell_type": "code",
   "execution_count": 19,
   "metadata": {},
   "outputs": [
    {
     "name": "stdout",
     "output_type": "stream",
     "text": [
      "0\n",
      "1\n",
      "2\n",
      "3\n",
      "4\n",
      "5\n"
     ]
    }
   ],
   "source": [
    "ls_list = landsatSR.toList(6)\n",
    "date_time = []\n",
    "ndvi_list = []\n",
    "x=0\n",
    "\n",
    "for l in range(0, 6):\n",
    "    im = ee.Image(ls_list.get(l))\n",
    "    date = ee.Date(im.get('system:time_start')).format('yyyy-mm-dd').getInfo()\n",
    "    date_time.append(date)\n",
    "    print(x)\n",
    "    x+=1\n",
    "    meanNDVI = NDVI_mean(im).getInfo()\n",
    "#     meanNDVI = meanNDVI.getInfo()\n",
    "    meanNDVI = meanNDVI['NDVI']\n",
    "    ndvi_list.append(meanNDVI)\n",
    "# Make_df(4, date_time, ndvi_list)\n"
   ]
  },
  {
   "cell_type": "markdown",
   "metadata": {},
   "source": [
    "## load csvs and create timeseries information"
   ]
  },
  {
   "cell_type": "code",
   "execution_count": 39,
   "metadata": {},
   "outputs": [],
   "source": [
    "#will need to change file path to wherever you saved dfs from above\n",
    "ls8 = pd.read_csv(r\"C:\\Users\\lgxsv2\\OneDrive - The University of Nottingham\\Documents\\GitHub\\Group3_Project\\NDVI\\8.csv\")\n",
    "ls7 = pd.read_csv(r\"C:\\Users\\lgxsv2\\OneDrive - The University of Nottingham\\Documents\\GitHub\\Group3_Project\\NDVI\\7.csv\")\n",
    "ls5 = pd.read_csv(r\"C:\\Users\\lgxsv2\\OneDrive - The University of Nottingham\\Documents\\GitHub\\Group3_Project\\NDVI\\5.csv\")\n",
    "ls4 = pd.read_csv(r\"C:\\Users\\lgxsv2\\OneDrive - The University of Nottingham\\Documents\\GitHub\\Group3_Project\\NDVI\\4.csv\")\n"
   ]
  },
  {
   "cell_type": "code",
   "execution_count": 20,
   "metadata": {},
   "outputs": [
    {
     "data": {
      "text/plain": [
       "[None, None, None, None, 0.6857818363850485, None]"
      ]
     },
     "execution_count": 20,
     "metadata": {},
     "output_type": "execute_result"
    }
   ],
   "source": [
    "ndvi_list"
   ]
  },
  {
   "cell_type": "code",
   "execution_count": 75,
   "metadata": {},
   "outputs": [
    {
     "name": "stdout",
     "output_type": "stream",
     "text": [
      "     Unnamed: 0  index           d      ndvi  ls\n",
      "0             0      3  2013-01-01  0.823254   8\n",
      "1             1      4  2013-01-01  0.824743   8\n",
      "2             2      5  2013-01-01  0.821320   8\n",
      "3             3      7  2013-01-01  0.679051   8\n",
      "4             4     11  2014-01-01  0.632222   8\n",
      "..          ...    ...         ...       ...  ..\n",
      "167         167    337  2004-01-01  0.794550   6\n",
      "168         168    340  2005-01-01  0.636152   6\n",
      "169         169    344  2006-01-01  0.671316   6\n",
      "170         170    346  2009-01-01  0.562357   6\n",
      "0             0      4  1989-01-01  0.685782   4\n",
      "\n",
      "[380 rows x 5 columns]\n"
     ]
    }
   ],
   "source": [
    "allscenes = ls8.append([ls7, ls5, ls4])\n",
    "print(allscenes)"
   ]
  },
  {
   "cell_type": "code",
   "execution_count": 53,
   "metadata": {},
   "outputs": [
    {
     "data": {
      "text/html": [
       "<div>\n",
       "<style scoped>\n",
       "    .dataframe tbody tr th:only-of-type {\n",
       "        vertical-align: middle;\n",
       "    }\n",
       "\n",
       "    .dataframe tbody tr th {\n",
       "        vertical-align: top;\n",
       "    }\n",
       "\n",
       "    .dataframe thead th {\n",
       "        text-align: right;\n",
       "    }\n",
       "</style>\n",
       "<table border=\"1\" class=\"dataframe\">\n",
       "  <thead>\n",
       "    <tr style=\"text-align: right;\">\n",
       "      <th></th>\n",
       "      <th>d</th>\n",
       "      <th>Unnamed: 0</th>\n",
       "      <th>index</th>\n",
       "      <th>ndvi</th>\n",
       "      <th>ls</th>\n",
       "    </tr>\n",
       "  </thead>\n",
       "  <tbody>\n",
       "    <tr>\n",
       "      <th>0</th>\n",
       "      <td>1984-01-01</td>\n",
       "      <td>56.5</td>\n",
       "      <td>117.250000</td>\n",
       "      <td>0.531149</td>\n",
       "      <td>6.0</td>\n",
       "    </tr>\n",
       "    <tr>\n",
       "      <th>1</th>\n",
       "      <td>1985-01-01</td>\n",
       "      <td>59.5</td>\n",
       "      <td>121.000000</td>\n",
       "      <td>0.512415</td>\n",
       "      <td>6.0</td>\n",
       "    </tr>\n",
       "    <tr>\n",
       "      <th>2</th>\n",
       "      <td>1986-01-01</td>\n",
       "      <td>41.0</td>\n",
       "      <td>86.666667</td>\n",
       "      <td>0.408888</td>\n",
       "      <td>6.0</td>\n",
       "    </tr>\n",
       "    <tr>\n",
       "      <th>3</th>\n",
       "      <td>1987-01-01</td>\n",
       "      <td>65.0</td>\n",
       "      <td>133.200000</td>\n",
       "      <td>0.591141</td>\n",
       "      <td>6.0</td>\n",
       "    </tr>\n",
       "    <tr>\n",
       "      <th>4</th>\n",
       "      <td>1988-01-01</td>\n",
       "      <td>31.5</td>\n",
       "      <td>65.666667</td>\n",
       "      <td>0.592196</td>\n",
       "      <td>6.0</td>\n",
       "    </tr>\n",
       "  </tbody>\n",
       "</table>\n",
       "</div>"
      ],
      "text/plain": [
       "            d  Unnamed: 0       index      ndvi   ls\n",
       "0  1984-01-01        56.5  117.250000  0.531149  6.0\n",
       "1  1985-01-01        59.5  121.000000  0.512415  6.0\n",
       "2  1986-01-01        41.0   86.666667  0.408888  6.0\n",
       "3  1987-01-01        65.0  133.200000  0.591141  6.0\n",
       "4  1988-01-01        31.5   65.666667  0.592196  6.0"
      ]
     },
     "execution_count": 53,
     "metadata": {},
     "output_type": "execute_result"
    }
   ],
   "source": [
    "grouped = allscenes.groupby(allscenes.d).mean()\n",
    "grouped = grouped.reset_index()\n"
   ]
  },
  {
   "cell_type": "code",
   "execution_count": 55,
   "metadata": {},
   "outputs": [
    {
     "data": {
      "text/plain": [
       "[<matplotlib.lines.Line2D at 0x19cc81a0b80>]"
      ]
     },
     "execution_count": 55,
     "metadata": {},
     "output_type": "execute_result"
    },
    {
     "data": {
      "image/png": "[encoded data removed]",
      "text/plain": [
       "<Figure size 432x288 with 1 Axes>"
      ]
     },
     "metadata": {
      "needs_background": "light"
     },
     "output_type": "display_data"
    }
   ],
   "source": [
    "plt.figure()\n",
    "g = grouped.iloc[:-1]\n",
    "plt.plot(g.d, g.ndvi)"
   ]
  },
  {
   "cell_type": "code",
   "execution_count": 70,
   "metadata": {},
   "outputs": [
    {
     "data": {
      "text/plain": [
       "0     1984\n",
       "1     1985\n",
       "2     1986\n",
       "3     1987\n",
       "4     1988\n",
       "5     1989\n",
       "6     1990\n",
       "7     1991\n",
       "8     1992\n",
       "9     1993\n",
       "10    1994\n",
       "11    1995\n",
       "12    1996\n",
       "13    1997\n",
       "14    1998\n",
       "15    1999\n",
       "16    2000\n",
       "17    2001\n",
       "18    2002\n",
       "19    2003\n",
       "20    2004\n",
       "21    2005\n",
       "22    2006\n",
       "23    2007\n",
       "24    2008\n",
       "25    2009\n",
       "26    2010\n",
       "27    2011\n",
       "28    2012\n",
       "29    2013\n",
       "30    2014\n",
       "31    2015\n",
       "32    2016\n",
       "33    2017\n",
       "34    2018\n",
       "35    2019\n",
       "36    2020\n",
       "Name: d, dtype: int64"
      ]
     },
     "execution_count": 70,
     "metadata": {},
     "output_type": "execute_result"
    }
   ],
   "source": [
    "x_values = x_values.apply(lambda x:int(x[:4]))\n",
    "# type(x_values[4])\n"
   ]
  },
  {
   "cell_type": "code",
   "execution_count": 79,
   "metadata": {},
   "outputs": [
    {
     "name": "stdout",
     "output_type": "stream",
     "text": [
      "r squared = 0.43753985693918773\n",
      "pearson r p value = 0.6614679560940104\n"
     ]
    }
   ],
   "source": [
    "import numpy as np\n",
    "from scipy import stats\n",
    "\n",
    "\n",
    "x_values = g['d']\n",
    "x_values = x_values.apply(lambda x:int(x[:4]))\n",
    "\n",
    "y_values = g['ndvi']\n",
    "\n",
    "correlation_matrix = np.corrcoef(x_values, y_values)\n",
    "correlation_xy = correlation_matrix[0,1]\n",
    "r_squared = correlation_xy**2\n",
    "\n",
    "p = stats.pearsonr(x_values, y_values)[0]\n",
    "\n",
    "print('r squared = ' + str(r_squared))\n",
    "print('pearson r p value = '+ str(p))"
   ]
  },
  {
   "cell_type": "code",
   "execution_count": 73,
   "metadata": {},
   "outputs": [
    {
     "data": {
      "text/plain": [
       "array([[1.        , 0.66146796],\n",
       "       [0.66146796, 1.        ]])"
      ]
     },
     "execution_count": 73,
     "metadata": {},
     "output_type": "execute_result"
    }
   ],
   "source": [
    "correlation_matrix"
   ]
  },
  {
   "cell_type": "markdown",
   "metadata": {},
   "source": [
    "<li> n = 380\n",
    "    <li> n=37 after grouping by year\n",
    "        <li> rsquared = 0.43753985693918773\n",
    "            <li> p value = 0.6614679560940104"
   ]
  },
  {
   "cell_type": "code",
   "execution_count": null,
   "metadata": {},
   "outputs": [],
   "source": []
  },
  {
   "cell_type": "code",
   "execution_count": null,
   "metadata": {},
   "outputs": [],
   "source": []
  },
  {
   "cell_type": "code",
   "execution_count": null,
   "metadata": {},
   "outputs": [],
   "source": []
  },
  {
   "cell_type": "code",
   "execution_count": null,
   "metadata": {},
   "outputs": [],
   "source": []
  },
  {
   "cell_type": "code",
   "execution_count": null,
   "metadata": {},
   "outputs": [],
   "source": []
  },
  {
   "cell_type": "code",
   "execution_count": null,
   "metadata": {},
   "outputs": [],
   "source": []
  }
 ],
 "metadata": {
  "kernelspec": {
   "display_name": "Python 3",
   "language": "python",
   "name": "python3"
  },
  "language_info": {
   "codemirror_mode": {
    "name": "ipython",
    "version": 3
   },
   "file_extension": ".py",
   "mimetype": "text/x-python",
   "name": "python",
   "nbconvert_exporter": "python",
   "pygments_lexer": "ipython3",
   "version": "3.8.5"
  }
 },
 "nbformat": 4,
 "nbformat_minor": 4
}
